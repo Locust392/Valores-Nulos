{
 "cells": [
  {
   "cell_type": "code",
   "execution_count": 5,
   "metadata": {},
   "outputs": [],
   "source": [
    "#librerias a usar\n",
    "import pandas as pd \n",
    "import numpy as np\n",
    "import matplotlib.pyplot as plt\n",
    "import seaborn as sns"
   ]
  },
  {
   "cell_type": "code",
   "execution_count": 6,
   "metadata": {},
   "outputs": [
    {
     "name": "stdout",
     "output_type": "stream",
     "text": [
      "<class 'pandas.core.frame.DataFrame'>\n",
      "RangeIndex: 95461 entries, 0 to 95460\n",
      "Data columns (total 75 columns):\n",
      " #   Column                                        Non-Null Count  Dtype  \n",
      "---  ------                                        --------------  -----  \n",
      " 0   id                                            95461 non-null  int64  \n",
      " 1   listing_url                                   95461 non-null  object \n",
      " 2   scrape_id                                     95461 non-null  int64  \n",
      " 3   last_scraped                                  95461 non-null  object \n",
      " 4   source                                        95461 non-null  object \n",
      " 5   name                                          95461 non-null  object \n",
      " 6   description                                   91385 non-null  object \n",
      " 7   neighborhood_overview                         48179 non-null  object \n",
      " 8   picture_url                                   95459 non-null  object \n",
      " 9   host_id                                       95461 non-null  int64  \n",
      " 10  host_url                                      95461 non-null  object \n",
      " 11  host_name                                     95455 non-null  object \n",
      " 12  host_since                                    95455 non-null  object \n",
      " 13  host_location                                 75907 non-null  object \n",
      " 14  host_about                                    41035 non-null  object \n",
      " 15  host_response_time                            54372 non-null  object \n",
      " 16  host_response_rate                            54372 non-null  object \n",
      " 17  host_acceptance_rate                          65048 non-null  object \n",
      " 18  host_is_superhost                             93159 non-null  object \n",
      " 19  host_thumbnail_url                            95455 non-null  object \n",
      " 20  host_picture_url                              95455 non-null  object \n",
      " 21  host_neighbourhood                            33272 non-null  object \n",
      " 22  host_listings_count                           95455 non-null  float64\n",
      " 23  host_total_listings_count                     95455 non-null  float64\n",
      " 24  host_verifications                            95455 non-null  object \n",
      " 25  host_has_profile_pic                          95455 non-null  object \n",
      " 26  host_identity_verified                        95455 non-null  object \n",
      " 27  neighbourhood                                 48179 non-null  object \n",
      " 28  neighbourhood_cleansed                        95461 non-null  object \n",
      " 29  neighbourhood_group_cleansed                  0 non-null      float64\n",
      " 30  latitude                                      95461 non-null  float64\n",
      " 31  longitude                                     95461 non-null  float64\n",
      " 32  property_type                                 95461 non-null  object \n",
      " 33  room_type                                     95461 non-null  object \n",
      " 34  accommodates                                  95461 non-null  int64  \n",
      " 35  bathrooms                                     64222 non-null  float64\n",
      " 36  bathrooms_text                                95371 non-null  object \n",
      " 37  bedrooms                                      88056 non-null  float64\n",
      " 38  beds                                          64101 non-null  float64\n",
      " 39  amenities                                     95461 non-null  object \n",
      " 40  price                                         64230 non-null  object \n",
      " 41  minimum_nights                                95461 non-null  int64  \n",
      " 42  maximum_nights                                95461 non-null  int64  \n",
      " 43  minimum_minimum_nights                        95461 non-null  int64  \n",
      " 44  maximum_minimum_nights                        95461 non-null  int64  \n",
      " 45  minimum_maximum_nights                        95461 non-null  int64  \n",
      " 46  maximum_maximum_nights                        95461 non-null  int64  \n",
      " 47  minimum_nights_avg_ntm                        95461 non-null  float64\n",
      " 48  maximum_nights_avg_ntm                        95461 non-null  float64\n",
      " 49  calendar_updated                              0 non-null      float64\n",
      " 50  has_availability                              90592 non-null  object \n",
      " 51  availability_30                               95461 non-null  int64  \n",
      " 52  availability_60                               95461 non-null  int64  \n",
      " 53  availability_90                               95461 non-null  int64  \n",
      " 54  availability_365                              95461 non-null  int64  \n",
      " 55  calendar_last_scraped                         95461 non-null  object \n",
      " 56  number_of_reviews                             95461 non-null  int64  \n",
      " 57  number_of_reviews_ltm                         95461 non-null  int64  \n",
      " 58  number_of_reviews_l30d                        95461 non-null  int64  \n",
      " 59  first_review                                  68319 non-null  object \n",
      " 60  last_review                                   68319 non-null  object \n",
      " 61  review_scores_rating                          68319 non-null  float64\n",
      " 62  review_scores_accuracy                        68307 non-null  float64\n",
      " 63  review_scores_cleanliness                     68310 non-null  float64\n",
      " 64  review_scores_checkin                         68300 non-null  float64\n",
      " 65  review_scores_communication                   68309 non-null  float64\n",
      " 66  review_scores_location                        68301 non-null  float64\n",
      " 67  review_scores_value                           68299 non-null  float64\n",
      " 68  license                                       76014 non-null  object \n",
      " 69  instant_bookable                              95461 non-null  object \n",
      " 70  calculated_host_listings_count                95461 non-null  int64  \n",
      " 71  calculated_host_listings_count_entire_homes   95461 non-null  int64  \n",
      " 72  calculated_host_listings_count_private_rooms  95461 non-null  int64  \n",
      " 73  calculated_host_listings_count_shared_rooms   95461 non-null  int64  \n",
      " 74  reviews_per_month                             68319 non-null  float64\n",
      "dtypes: float64(19), int64(21), object(35)\n",
      "memory usage: 54.6+ MB\n"
     ]
    }
   ],
   "source": [
    "#cargar archivo csv\n",
    "data1 = pd.read_csv('Paris.csv')\n",
    "data1.info()"
   ]
  },
  {
   "cell_type": "code",
   "execution_count": 9,
   "metadata": {},
   "outputs": [],
   "source": [
    "#Eliminar columnas innecesarias con drop\n",
    "#axis1 es para columnas y axis0 es para filas\n",
    "data1 = data1.drop(['scrape_id','source','name','neighborhood_overview','picture_url','host_location', 'host_about',\n",
    "                   'host_thumbnail_url', 'host_picture_url','host_has_profile_pic' ,'neighbourhood_group_cleansed',\n",
    "                   'latitude','longitude','bathrooms_text','minimum_minimum_nights','maximum_minimum_nights',\n",
    "                   'minimum_maximum_nights','maximum_maximum_nights','minimum_nights_avg_ntm','maximum_nights_avg_ntm',\n",
    "                   'calendar_updated', 'host_name','host_neighbourhood', 'review_scores_rating','review_scores_value', \n",
    "                   ], \n",
    "                   axis=1)"
   ]
  },
  {
   "cell_type": "code",
   "execution_count": 10,
   "metadata": {},
   "outputs": [
    {
     "data": {
      "text/plain": [
       "id                                                  0\n",
       "listing_url                                         0\n",
       "last_scraped                                        0\n",
       "description                                      4076\n",
       "host_id                                             0\n",
       "host_url                                            0\n",
       "host_since                                          6\n",
       "host_response_time                              41089\n",
       "host_response_rate                              41089\n",
       "host_acceptance_rate                            30413\n",
       "host_is_superhost                                2302\n",
       "host_listings_count                                 6\n",
       "host_total_listings_count                           6\n",
       "host_verifications                                  6\n",
       "host_identity_verified                              6\n",
       "neighbourhood                                   47282\n",
       "neighbourhood_cleansed                              0\n",
       "property_type                                       0\n",
       "room_type                                           0\n",
       "accommodates                                        0\n",
       "bathrooms                                       31239\n",
       "bedrooms                                         7405\n",
       "beds                                            31360\n",
       "amenities                                           0\n",
       "price                                           31231\n",
       "minimum_nights                                      0\n",
       "maximum_nights                                      0\n",
       "has_availability                                 4869\n",
       "availability_30                                     0\n",
       "availability_60                                     0\n",
       "availability_90                                     0\n",
       "availability_365                                    0\n",
       "calendar_last_scraped                               0\n",
       "number_of_reviews                                   0\n",
       "number_of_reviews_ltm                               0\n",
       "number_of_reviews_l30d                              0\n",
       "first_review                                    27142\n",
       "last_review                                     27142\n",
       "review_scores_accuracy                          27154\n",
       "review_scores_cleanliness                       27151\n",
       "review_scores_checkin                           27161\n",
       "review_scores_communication                     27152\n",
       "review_scores_location                          27160\n",
       "license                                         19447\n",
       "instant_bookable                                    0\n",
       "calculated_host_listings_count                      0\n",
       "calculated_host_listings_count_entire_homes         0\n",
       "calculated_host_listings_count_private_rooms        0\n",
       "calculated_host_listings_count_shared_rooms         0\n",
       "reviews_per_month                               27142\n",
       "dtype: int64"
      ]
     },
     "execution_count": 10,
     "metadata": {},
     "output_type": "execute_result"
    }
   ],
   "source": [
    "#identificar valores nulos por columna\n",
    "valores_nulos = data1.isnull().sum()\n",
    "valores_nulos"
   ]
  },
  {
   "cell_type": "code",
   "execution_count": 11,
   "metadata": {},
   "outputs": [],
   "source": [
    "#Realizamos una copia del data frame\n",
    "data2 = data1.copy()"
   ]
  },
  {
   "cell_type": "markdown",
   "metadata": {},
   "source": []
  },
  {
   "cell_type": "code",
   "execution_count": 12,
   "metadata": {},
   "outputs": [],
   "source": [
    "# Sustituir valores nulos con la cadena \"N/A\"\n",
    "data2['description'] = data2['description'].fillna(\"N/A\")\n"
   ]
  },
  {
   "cell_type": "code",
   "execution_count": 13,
   "metadata": {},
   "outputs": [
    {
     "data": {
      "text/plain": [
       "id                                                  0\n",
       "listing_url                                         0\n",
       "last_scraped                                        0\n",
       "description                                         0\n",
       "host_id                                             0\n",
       "host_url                                            0\n",
       "host_since                                          6\n",
       "host_response_time                              41089\n",
       "host_response_rate                              41089\n",
       "host_acceptance_rate                            30413\n",
       "host_is_superhost                                2302\n",
       "host_listings_count                                 6\n",
       "host_total_listings_count                           6\n",
       "host_verifications                                  6\n",
       "host_identity_verified                              6\n",
       "neighbourhood                                   47282\n",
       "neighbourhood_cleansed                              0\n",
       "property_type                                       0\n",
       "room_type                                           0\n",
       "accommodates                                        0\n",
       "bathrooms                                       31239\n",
       "bedrooms                                         7405\n",
       "beds                                            31360\n",
       "amenities                                           0\n",
       "price                                           31231\n",
       "minimum_nights                                      0\n",
       "maximum_nights                                      0\n",
       "has_availability                                 4869\n",
       "availability_30                                     0\n",
       "availability_60                                     0\n",
       "availability_90                                     0\n",
       "availability_365                                    0\n",
       "calendar_last_scraped                               0\n",
       "number_of_reviews                                   0\n",
       "number_of_reviews_ltm                               0\n",
       "number_of_reviews_l30d                              0\n",
       "first_review                                    27142\n",
       "last_review                                     27142\n",
       "review_scores_accuracy                          27154\n",
       "review_scores_cleanliness                       27151\n",
       "review_scores_checkin                           27161\n",
       "review_scores_communication                     27152\n",
       "review_scores_location                          27160\n",
       "license                                         19447\n",
       "instant_bookable                                    0\n",
       "calculated_host_listings_count                      0\n",
       "calculated_host_listings_count_entire_homes         0\n",
       "calculated_host_listings_count_private_rooms        0\n",
       "calculated_host_listings_count_shared_rooms         0\n",
       "reviews_per_month                               27142\n",
       "dtype: int64"
      ]
     },
     "execution_count": 13,
     "metadata": {},
     "output_type": "execute_result"
    }
   ],
   "source": [
    "#identificar valores nulos por columna\n",
    "valores_nulos = data2.isnull().sum()\n",
    "valores_nulos"
   ]
  },
  {
   "cell_type": "code",
   "execution_count": 14,
   "metadata": {},
   "outputs": [],
   "source": [
    "# Sustituir valores nulos con la cadena \"N/A\"\n",
    "data2['host_since'] = data2['host_since'].fillna(\"23/11/2011\")"
   ]
  },
  {
   "cell_type": "code",
   "execution_count": 15,
   "metadata": {},
   "outputs": [
    {
     "data": {
      "text/plain": [
       "id                                                  0\n",
       "listing_url                                         0\n",
       "last_scraped                                        0\n",
       "description                                         0\n",
       "host_id                                             0\n",
       "host_url                                            0\n",
       "host_since                                          0\n",
       "host_response_time                              41089\n",
       "host_response_rate                              41089\n",
       "host_acceptance_rate                            30413\n",
       "host_is_superhost                                2302\n",
       "host_listings_count                                 6\n",
       "host_total_listings_count                           6\n",
       "host_verifications                                  6\n",
       "host_identity_verified                              6\n",
       "neighbourhood                                   47282\n",
       "neighbourhood_cleansed                              0\n",
       "property_type                                       0\n",
       "room_type                                           0\n",
       "accommodates                                        0\n",
       "bathrooms                                       31239\n",
       "bedrooms                                         7405\n",
       "beds                                            31360\n",
       "amenities                                           0\n",
       "price                                           31231\n",
       "minimum_nights                                      0\n",
       "maximum_nights                                      0\n",
       "has_availability                                 4869\n",
       "availability_30                                     0\n",
       "availability_60                                     0\n",
       "availability_90                                     0\n",
       "availability_365                                    0\n",
       "calendar_last_scraped                               0\n",
       "number_of_reviews                                   0\n",
       "number_of_reviews_ltm                               0\n",
       "number_of_reviews_l30d                              0\n",
       "first_review                                    27142\n",
       "last_review                                     27142\n",
       "review_scores_accuracy                          27154\n",
       "review_scores_cleanliness                       27151\n",
       "review_scores_checkin                           27161\n",
       "review_scores_communication                     27152\n",
       "review_scores_location                          27160\n",
       "license                                         19447\n",
       "instant_bookable                                    0\n",
       "calculated_host_listings_count                      0\n",
       "calculated_host_listings_count_entire_homes         0\n",
       "calculated_host_listings_count_private_rooms        0\n",
       "calculated_host_listings_count_shared_rooms         0\n",
       "reviews_per_month                               27142\n",
       "dtype: int64"
      ]
     },
     "execution_count": 15,
     "metadata": {},
     "output_type": "execute_result"
    }
   ],
   "source": [
    "#identificar valores nulos por columna\n",
    "valores_nulos = data2.isnull().sum()\n",
    "valores_nulos"
   ]
  },
  {
   "cell_type": "code",
   "execution_count": 16,
   "metadata": {},
   "outputs": [],
   "source": [
    "# Sustituir valores nulos en 'host_response_time ' con el valor de una celda específica\n",
    "# Supongamos que la celda de referencia está en la fila 10 de la columna 'host_response_time '\n",
    "valor_referencia = data2.loc[2, 'host_response_time']\n",
    "\n",
    "# Reemplazar valores nulos con ese valor de referencia\n",
    "data2['host_response_time'] = data2['host_response_time'].fillna(valor_referencia)"
   ]
  },
  {
   "cell_type": "code",
   "execution_count": 17,
   "metadata": {},
   "outputs": [
    {
     "data": {
      "text/plain": [
       "id                                                  0\n",
       "listing_url                                         0\n",
       "last_scraped                                        0\n",
       "description                                         0\n",
       "host_id                                             0\n",
       "host_url                                            0\n",
       "host_since                                          0\n",
       "host_response_time                                  0\n",
       "host_response_rate                              41089\n",
       "host_acceptance_rate                            30413\n",
       "host_is_superhost                                2302\n",
       "host_listings_count                                 6\n",
       "host_total_listings_count                           6\n",
       "host_verifications                                  6\n",
       "host_identity_verified                              6\n",
       "neighbourhood                                   47282\n",
       "neighbourhood_cleansed                              0\n",
       "property_type                                       0\n",
       "room_type                                           0\n",
       "accommodates                                        0\n",
       "bathrooms                                       31239\n",
       "bedrooms                                         7405\n",
       "beds                                            31360\n",
       "amenities                                           0\n",
       "price                                           31231\n",
       "minimum_nights                                      0\n",
       "maximum_nights                                      0\n",
       "has_availability                                 4869\n",
       "availability_30                                     0\n",
       "availability_60                                     0\n",
       "availability_90                                     0\n",
       "availability_365                                    0\n",
       "calendar_last_scraped                               0\n",
       "number_of_reviews                                   0\n",
       "number_of_reviews_ltm                               0\n",
       "number_of_reviews_l30d                              0\n",
       "first_review                                    27142\n",
       "last_review                                     27142\n",
       "review_scores_accuracy                          27154\n",
       "review_scores_cleanliness                       27151\n",
       "review_scores_checkin                           27161\n",
       "review_scores_communication                     27152\n",
       "review_scores_location                          27160\n",
       "license                                         19447\n",
       "instant_bookable                                    0\n",
       "calculated_host_listings_count                      0\n",
       "calculated_host_listings_count_entire_homes         0\n",
       "calculated_host_listings_count_private_rooms        0\n",
       "calculated_host_listings_count_shared_rooms         0\n",
       "reviews_per_month                               27142\n",
       "dtype: int64"
      ]
     },
     "execution_count": 17,
     "metadata": {},
     "output_type": "execute_result"
    }
   ],
   "source": [
    "#identificar valores nulos por columna\n",
    "valores_nulos = data2.isnull().sum()\n",
    "valores_nulos"
   ]
  },
  {
   "cell_type": "code",
   "execution_count": 18,
   "metadata": {},
   "outputs": [],
   "source": [
    "# Sustituir valores nulos con la cadena \"N/A\"\n",
    "data2['host_response_rate'] = data2['host_response_rate'].fillna(\"N/A\")"
   ]
  },
  {
   "cell_type": "code",
   "execution_count": 19,
   "metadata": {},
   "outputs": [
    {
     "data": {
      "text/plain": [
       "id                                                  0\n",
       "listing_url                                         0\n",
       "last_scraped                                        0\n",
       "description                                         0\n",
       "host_id                                             0\n",
       "host_url                                            0\n",
       "host_since                                          0\n",
       "host_response_time                                  0\n",
       "host_response_rate                                  0\n",
       "host_acceptance_rate                            30413\n",
       "host_is_superhost                                2302\n",
       "host_listings_count                                 6\n",
       "host_total_listings_count                           6\n",
       "host_verifications                                  6\n",
       "host_identity_verified                              6\n",
       "neighbourhood                                   47282\n",
       "neighbourhood_cleansed                              0\n",
       "property_type                                       0\n",
       "room_type                                           0\n",
       "accommodates                                        0\n",
       "bathrooms                                       31239\n",
       "bedrooms                                         7405\n",
       "beds                                            31360\n",
       "amenities                                           0\n",
       "price                                           31231\n",
       "minimum_nights                                      0\n",
       "maximum_nights                                      0\n",
       "has_availability                                 4869\n",
       "availability_30                                     0\n",
       "availability_60                                     0\n",
       "availability_90                                     0\n",
       "availability_365                                    0\n",
       "calendar_last_scraped                               0\n",
       "number_of_reviews                                   0\n",
       "number_of_reviews_ltm                               0\n",
       "number_of_reviews_l30d                              0\n",
       "first_review                                    27142\n",
       "last_review                                     27142\n",
       "review_scores_accuracy                          27154\n",
       "review_scores_cleanliness                       27151\n",
       "review_scores_checkin                           27161\n",
       "review_scores_communication                     27152\n",
       "review_scores_location                          27160\n",
       "license                                         19447\n",
       "instant_bookable                                    0\n",
       "calculated_host_listings_count                      0\n",
       "calculated_host_listings_count_entire_homes         0\n",
       "calculated_host_listings_count_private_rooms        0\n",
       "calculated_host_listings_count_shared_rooms         0\n",
       "reviews_per_month                               27142\n",
       "dtype: int64"
      ]
     },
     "execution_count": 19,
     "metadata": {},
     "output_type": "execute_result"
    }
   ],
   "source": [
    "#identificar valores nulos por columna\n",
    "valores_nulos = data2.isnull().sum()\n",
    "valores_nulos"
   ]
  },
  {
   "cell_type": "code",
   "execution_count": 20,
   "metadata": {},
   "outputs": [],
   "source": [
    "# Sustituir valores nulos con la cadena \"N/A\"\n",
    "data2['host_acceptance_rate'] = data2['host_acceptance_rate'].fillna(\"N/A\")"
   ]
  },
  {
   "cell_type": "code",
   "execution_count": 21,
   "metadata": {},
   "outputs": [
    {
     "data": {
      "text/plain": [
       "id                                                  0\n",
       "listing_url                                         0\n",
       "last_scraped                                        0\n",
       "description                                         0\n",
       "host_id                                             0\n",
       "host_url                                            0\n",
       "host_since                                          0\n",
       "host_response_time                                  0\n",
       "host_response_rate                                  0\n",
       "host_acceptance_rate                                0\n",
       "host_is_superhost                                2302\n",
       "host_listings_count                                 6\n",
       "host_total_listings_count                           6\n",
       "host_verifications                                  6\n",
       "host_identity_verified                              6\n",
       "neighbourhood                                   47282\n",
       "neighbourhood_cleansed                              0\n",
       "property_type                                       0\n",
       "room_type                                           0\n",
       "accommodates                                        0\n",
       "bathrooms                                       31239\n",
       "bedrooms                                         7405\n",
       "beds                                            31360\n",
       "amenities                                           0\n",
       "price                                           31231\n",
       "minimum_nights                                      0\n",
       "maximum_nights                                      0\n",
       "has_availability                                 4869\n",
       "availability_30                                     0\n",
       "availability_60                                     0\n",
       "availability_90                                     0\n",
       "availability_365                                    0\n",
       "calendar_last_scraped                               0\n",
       "number_of_reviews                                   0\n",
       "number_of_reviews_ltm                               0\n",
       "number_of_reviews_l30d                              0\n",
       "first_review                                    27142\n",
       "last_review                                     27142\n",
       "review_scores_accuracy                          27154\n",
       "review_scores_cleanliness                       27151\n",
       "review_scores_checkin                           27161\n",
       "review_scores_communication                     27152\n",
       "review_scores_location                          27160\n",
       "license                                         19447\n",
       "instant_bookable                                    0\n",
       "calculated_host_listings_count                      0\n",
       "calculated_host_listings_count_entire_homes         0\n",
       "calculated_host_listings_count_private_rooms        0\n",
       "calculated_host_listings_count_shared_rooms         0\n",
       "reviews_per_month                               27142\n",
       "dtype: int64"
      ]
     },
     "execution_count": 21,
     "metadata": {},
     "output_type": "execute_result"
    }
   ],
   "source": [
    "#identificar valores nulos por columna\n",
    "valores_nulos = data2.isnull().sum()\n",
    "valores_nulos"
   ]
  },
  {
   "cell_type": "code",
   "execution_count": 22,
   "metadata": {},
   "outputs": [],
   "source": [
    "valor_referencia = data2.loc[2, 'host_is_superhost']\n",
    "\n",
    "# Reemplazar valores nulos con ese valor de referencia\n",
    "data2['host_is_superhost'] = data2['host_is_superhost'].fillna(valor_referencia)"
   ]
  },
  {
   "cell_type": "code",
   "execution_count": 23,
   "metadata": {},
   "outputs": [
    {
     "data": {
      "text/plain": [
       "id                                                  0\n",
       "listing_url                                         0\n",
       "last_scraped                                        0\n",
       "description                                         0\n",
       "host_id                                             0\n",
       "host_url                                            0\n",
       "host_since                                          0\n",
       "host_response_time                                  0\n",
       "host_response_rate                                  0\n",
       "host_acceptance_rate                                0\n",
       "host_is_superhost                                   0\n",
       "host_listings_count                                 6\n",
       "host_total_listings_count                           6\n",
       "host_verifications                                  6\n",
       "host_identity_verified                              6\n",
       "neighbourhood                                   47282\n",
       "neighbourhood_cleansed                              0\n",
       "property_type                                       0\n",
       "room_type                                           0\n",
       "accommodates                                        0\n",
       "bathrooms                                       31239\n",
       "bedrooms                                         7405\n",
       "beds                                            31360\n",
       "amenities                                           0\n",
       "price                                           31231\n",
       "minimum_nights                                      0\n",
       "maximum_nights                                      0\n",
       "has_availability                                 4869\n",
       "availability_30                                     0\n",
       "availability_60                                     0\n",
       "availability_90                                     0\n",
       "availability_365                                    0\n",
       "calendar_last_scraped                               0\n",
       "number_of_reviews                                   0\n",
       "number_of_reviews_ltm                               0\n",
       "number_of_reviews_l30d                              0\n",
       "first_review                                    27142\n",
       "last_review                                     27142\n",
       "review_scores_accuracy                          27154\n",
       "review_scores_cleanliness                       27151\n",
       "review_scores_checkin                           27161\n",
       "review_scores_communication                     27152\n",
       "review_scores_location                          27160\n",
       "license                                         19447\n",
       "instant_bookable                                    0\n",
       "calculated_host_listings_count                      0\n",
       "calculated_host_listings_count_entire_homes         0\n",
       "calculated_host_listings_count_private_rooms        0\n",
       "calculated_host_listings_count_shared_rooms         0\n",
       "reviews_per_month                               27142\n",
       "dtype: int64"
      ]
     },
     "execution_count": 23,
     "metadata": {},
     "output_type": "execute_result"
    }
   ],
   "source": [
    "#identificar valores nulos por columna\n",
    "valores_nulos = data2.isnull().sum()\n",
    "valores_nulos"
   ]
  },
  {
   "cell_type": "code",
   "execution_count": 24,
   "metadata": {},
   "outputs": [],
   "source": [
    "# Sustituir valores nulos con la cadena \"No hay\"\n",
    "data2['neighbourhood'] = data2['neighbourhood'].fillna(\"No Hay\")"
   ]
  },
  {
   "cell_type": "code",
   "execution_count": 25,
   "metadata": {},
   "outputs": [
    {
     "data": {
      "text/plain": [
       "id                                                  0\n",
       "listing_url                                         0\n",
       "last_scraped                                        0\n",
       "description                                         0\n",
       "host_id                                             0\n",
       "host_url                                            0\n",
       "host_since                                          0\n",
       "host_response_time                                  0\n",
       "host_response_rate                                  0\n",
       "host_acceptance_rate                                0\n",
       "host_is_superhost                                   0\n",
       "host_listings_count                                 6\n",
       "host_total_listings_count                           6\n",
       "host_verifications                                  6\n",
       "host_identity_verified                              6\n",
       "neighbourhood                                       0\n",
       "neighbourhood_cleansed                              0\n",
       "property_type                                       0\n",
       "room_type                                           0\n",
       "accommodates                                        0\n",
       "bathrooms                                       31239\n",
       "bedrooms                                         7405\n",
       "beds                                            31360\n",
       "amenities                                           0\n",
       "price                                           31231\n",
       "minimum_nights                                      0\n",
       "maximum_nights                                      0\n",
       "has_availability                                 4869\n",
       "availability_30                                     0\n",
       "availability_60                                     0\n",
       "availability_90                                     0\n",
       "availability_365                                    0\n",
       "calendar_last_scraped                               0\n",
       "number_of_reviews                                   0\n",
       "number_of_reviews_ltm                               0\n",
       "number_of_reviews_l30d                              0\n",
       "first_review                                    27142\n",
       "last_review                                     27142\n",
       "review_scores_accuracy                          27154\n",
       "review_scores_cleanliness                       27151\n",
       "review_scores_checkin                           27161\n",
       "review_scores_communication                     27152\n",
       "review_scores_location                          27160\n",
       "license                                         19447\n",
       "instant_bookable                                    0\n",
       "calculated_host_listings_count                      0\n",
       "calculated_host_listings_count_entire_homes         0\n",
       "calculated_host_listings_count_private_rooms        0\n",
       "calculated_host_listings_count_shared_rooms         0\n",
       "reviews_per_month                               27142\n",
       "dtype: int64"
      ]
     },
     "execution_count": 25,
     "metadata": {},
     "output_type": "execute_result"
    }
   ],
   "source": [
    "#identificar valores nulos por columna\n",
    "valores_nulos = data2.isnull().sum()\n",
    "valores_nulos"
   ]
  },
  {
   "cell_type": "code",
   "execution_count": 27,
   "metadata": {},
   "outputs": [],
   "source": [
    "# Sustituir valores nulos con la cadena \"No hay\"\n",
    "data2['host_total_listings_count'] = data2['host_total_listings_count'].fillna(\"No Hay\")"
   ]
  },
  {
   "cell_type": "code",
   "execution_count": 28,
   "metadata": {},
   "outputs": [
    {
     "data": {
      "text/plain": [
       "id                                                  0\n",
       "listing_url                                         0\n",
       "last_scraped                                        0\n",
       "description                                         0\n",
       "host_id                                             0\n",
       "host_url                                            0\n",
       "host_since                                          0\n",
       "host_response_time                                  0\n",
       "host_response_rate                                  0\n",
       "host_acceptance_rate                                0\n",
       "host_is_superhost                                   0\n",
       "host_listings_count                                 6\n",
       "host_total_listings_count                           0\n",
       "host_verifications                                  6\n",
       "host_identity_verified                              6\n",
       "neighbourhood                                       0\n",
       "neighbourhood_cleansed                              0\n",
       "property_type                                       0\n",
       "room_type                                           0\n",
       "accommodates                                        0\n",
       "bathrooms                                       31239\n",
       "bedrooms                                         7405\n",
       "beds                                            31360\n",
       "amenities                                           0\n",
       "price                                           31231\n",
       "minimum_nights                                      0\n",
       "maximum_nights                                      0\n",
       "has_availability                                 4869\n",
       "availability_30                                     0\n",
       "availability_60                                     0\n",
       "availability_90                                     0\n",
       "availability_365                                    0\n",
       "calendar_last_scraped                               0\n",
       "number_of_reviews                                   0\n",
       "number_of_reviews_ltm                               0\n",
       "number_of_reviews_l30d                              0\n",
       "first_review                                    27142\n",
       "last_review                                     27142\n",
       "review_scores_accuracy                          27154\n",
       "review_scores_cleanliness                       27151\n",
       "review_scores_checkin                           27161\n",
       "review_scores_communication                     27152\n",
       "review_scores_location                          27160\n",
       "license                                         19447\n",
       "instant_bookable                                    0\n",
       "calculated_host_listings_count                      0\n",
       "calculated_host_listings_count_entire_homes         0\n",
       "calculated_host_listings_count_private_rooms        0\n",
       "calculated_host_listings_count_shared_rooms         0\n",
       "reviews_per_month                               27142\n",
       "dtype: int64"
      ]
     },
     "execution_count": 28,
     "metadata": {},
     "output_type": "execute_result"
    }
   ],
   "source": [
    "#identificar valores nulos por columna\n",
    "valores_nulos = data2.isnull().sum()\n",
    "valores_nulos"
   ]
  },
  {
   "cell_type": "code",
   "execution_count": 29,
   "metadata": {},
   "outputs": [],
   "source": [
    "# Sustituir valores nulos con la cadena \"No hay\"\n",
    "data2['host_listings_count'] = data2['host_listings_count'].fillna(\"No Hay\")"
   ]
  },
  {
   "cell_type": "code",
   "execution_count": 30,
   "metadata": {},
   "outputs": [
    {
     "data": {
      "text/plain": [
       "id                                                  0\n",
       "listing_url                                         0\n",
       "last_scraped                                        0\n",
       "description                                         0\n",
       "host_id                                             0\n",
       "host_url                                            0\n",
       "host_since                                          0\n",
       "host_response_time                                  0\n",
       "host_response_rate                                  0\n",
       "host_acceptance_rate                                0\n",
       "host_is_superhost                                   0\n",
       "host_listings_count                                 0\n",
       "host_total_listings_count                           0\n",
       "host_verifications                                  6\n",
       "host_identity_verified                              6\n",
       "neighbourhood                                       0\n",
       "neighbourhood_cleansed                              0\n",
       "property_type                                       0\n",
       "room_type                                           0\n",
       "accommodates                                        0\n",
       "bathrooms                                       31239\n",
       "bedrooms                                         7405\n",
       "beds                                            31360\n",
       "amenities                                           0\n",
       "price                                           31231\n",
       "minimum_nights                                      0\n",
       "maximum_nights                                      0\n",
       "has_availability                                 4869\n",
       "availability_30                                     0\n",
       "availability_60                                     0\n",
       "availability_90                                     0\n",
       "availability_365                                    0\n",
       "calendar_last_scraped                               0\n",
       "number_of_reviews                                   0\n",
       "number_of_reviews_ltm                               0\n",
       "number_of_reviews_l30d                              0\n",
       "first_review                                    27142\n",
       "last_review                                     27142\n",
       "review_scores_accuracy                          27154\n",
       "review_scores_cleanliness                       27151\n",
       "review_scores_checkin                           27161\n",
       "review_scores_communication                     27152\n",
       "review_scores_location                          27160\n",
       "license                                         19447\n",
       "instant_bookable                                    0\n",
       "calculated_host_listings_count                      0\n",
       "calculated_host_listings_count_entire_homes         0\n",
       "calculated_host_listings_count_private_rooms        0\n",
       "calculated_host_listings_count_shared_rooms         0\n",
       "reviews_per_month                               27142\n",
       "dtype: int64"
      ]
     },
     "execution_count": 30,
     "metadata": {},
     "output_type": "execute_result"
    }
   ],
   "source": [
    "#identificar valores nulos por columna\n",
    "valores_nulos = data2.isnull().sum()\n",
    "valores_nulos"
   ]
  },
  {
   "cell_type": "code",
   "execution_count": 31,
   "metadata": {},
   "outputs": [],
   "source": [
    "# Sustituir valores nulos con la cadena \"No hay\"\n",
    "data2['host_verifications'] = data2['host_verifications'].fillna(\"No Hay\")"
   ]
  },
  {
   "cell_type": "code",
   "execution_count": 32,
   "metadata": {},
   "outputs": [
    {
     "data": {
      "text/plain": [
       "id                                                  0\n",
       "listing_url                                         0\n",
       "last_scraped                                        0\n",
       "description                                         0\n",
       "host_id                                             0\n",
       "host_url                                            0\n",
       "host_since                                          0\n",
       "host_response_time                                  0\n",
       "host_response_rate                                  0\n",
       "host_acceptance_rate                                0\n",
       "host_is_superhost                                   0\n",
       "host_listings_count                                 0\n",
       "host_total_listings_count                           0\n",
       "host_verifications                                  0\n",
       "host_identity_verified                              6\n",
       "neighbourhood                                       0\n",
       "neighbourhood_cleansed                              0\n",
       "property_type                                       0\n",
       "room_type                                           0\n",
       "accommodates                                        0\n",
       "bathrooms                                       31239\n",
       "bedrooms                                         7405\n",
       "beds                                            31360\n",
       "amenities                                           0\n",
       "price                                           31231\n",
       "minimum_nights                                      0\n",
       "maximum_nights                                      0\n",
       "has_availability                                 4869\n",
       "availability_30                                     0\n",
       "availability_60                                     0\n",
       "availability_90                                     0\n",
       "availability_365                                    0\n",
       "calendar_last_scraped                               0\n",
       "number_of_reviews                                   0\n",
       "number_of_reviews_ltm                               0\n",
       "number_of_reviews_l30d                              0\n",
       "first_review                                    27142\n",
       "last_review                                     27142\n",
       "review_scores_accuracy                          27154\n",
       "review_scores_cleanliness                       27151\n",
       "review_scores_checkin                           27161\n",
       "review_scores_communication                     27152\n",
       "review_scores_location                          27160\n",
       "license                                         19447\n",
       "instant_bookable                                    0\n",
       "calculated_host_listings_count                      0\n",
       "calculated_host_listings_count_entire_homes         0\n",
       "calculated_host_listings_count_private_rooms        0\n",
       "calculated_host_listings_count_shared_rooms         0\n",
       "reviews_per_month                               27142\n",
       "dtype: int64"
      ]
     },
     "execution_count": 32,
     "metadata": {},
     "output_type": "execute_result"
    }
   ],
   "source": [
    "#identificar valores nulos por columna\n",
    "valores_nulos = data2.isnull().sum()\n",
    "valores_nulos"
   ]
  },
  {
   "cell_type": "code",
   "execution_count": 33,
   "metadata": {},
   "outputs": [],
   "source": [
    "# Sustituir valores nulos con la cadena \"No hay\"\n",
    "data2['host_identity_verified'] = data2['host_identity_verified'].fillna(\"No Hay\")"
   ]
  },
  {
   "cell_type": "code",
   "execution_count": 34,
   "metadata": {},
   "outputs": [
    {
     "data": {
      "text/plain": [
       "id                                                  0\n",
       "listing_url                                         0\n",
       "last_scraped                                        0\n",
       "description                                         0\n",
       "host_id                                             0\n",
       "host_url                                            0\n",
       "host_since                                          0\n",
       "host_response_time                                  0\n",
       "host_response_rate                                  0\n",
       "host_acceptance_rate                                0\n",
       "host_is_superhost                                   0\n",
       "host_listings_count                                 0\n",
       "host_total_listings_count                           0\n",
       "host_verifications                                  0\n",
       "host_identity_verified                              0\n",
       "neighbourhood                                       0\n",
       "neighbourhood_cleansed                              0\n",
       "property_type                                       0\n",
       "room_type                                           0\n",
       "accommodates                                        0\n",
       "bathrooms                                       31239\n",
       "bedrooms                                         7405\n",
       "beds                                            31360\n",
       "amenities                                           0\n",
       "price                                           31231\n",
       "minimum_nights                                      0\n",
       "maximum_nights                                      0\n",
       "has_availability                                 4869\n",
       "availability_30                                     0\n",
       "availability_60                                     0\n",
       "availability_90                                     0\n",
       "availability_365                                    0\n",
       "calendar_last_scraped                               0\n",
       "number_of_reviews                                   0\n",
       "number_of_reviews_ltm                               0\n",
       "number_of_reviews_l30d                              0\n",
       "first_review                                    27142\n",
       "last_review                                     27142\n",
       "review_scores_accuracy                          27154\n",
       "review_scores_cleanliness                       27151\n",
       "review_scores_checkin                           27161\n",
       "review_scores_communication                     27152\n",
       "review_scores_location                          27160\n",
       "license                                         19447\n",
       "instant_bookable                                    0\n",
       "calculated_host_listings_count                      0\n",
       "calculated_host_listings_count_entire_homes         0\n",
       "calculated_host_listings_count_private_rooms        0\n",
       "calculated_host_listings_count_shared_rooms         0\n",
       "reviews_per_month                               27142\n",
       "dtype: int64"
      ]
     },
     "execution_count": 34,
     "metadata": {},
     "output_type": "execute_result"
    }
   ],
   "source": [
    "#identificar valores nulos por columna\n",
    "valores_nulos = data2.isnull().sum()\n",
    "valores_nulos"
   ]
  },
  {
   "cell_type": "code",
   "execution_count": 35,
   "metadata": {},
   "outputs": [],
   "source": [
    "# Sustituir valores nulos con la cadena \"1\"\n",
    "data2['bathrooms'] = data2['bathrooms'].fillna(\"1\")"
   ]
  },
  {
   "cell_type": "code",
   "execution_count": 36,
   "metadata": {},
   "outputs": [
    {
     "data": {
      "text/plain": [
       "id                                                  0\n",
       "listing_url                                         0\n",
       "last_scraped                                        0\n",
       "description                                         0\n",
       "host_id                                             0\n",
       "host_url                                            0\n",
       "host_since                                          0\n",
       "host_response_time                                  0\n",
       "host_response_rate                                  0\n",
       "host_acceptance_rate                                0\n",
       "host_is_superhost                                   0\n",
       "host_listings_count                                 0\n",
       "host_total_listings_count                           0\n",
       "host_verifications                                  0\n",
       "host_identity_verified                              0\n",
       "neighbourhood                                       0\n",
       "neighbourhood_cleansed                              0\n",
       "property_type                                       0\n",
       "room_type                                           0\n",
       "accommodates                                        0\n",
       "bathrooms                                           0\n",
       "bedrooms                                         7405\n",
       "beds                                            31360\n",
       "amenities                                           0\n",
       "price                                           31231\n",
       "minimum_nights                                      0\n",
       "maximum_nights                                      0\n",
       "has_availability                                 4869\n",
       "availability_30                                     0\n",
       "availability_60                                     0\n",
       "availability_90                                     0\n",
       "availability_365                                    0\n",
       "calendar_last_scraped                               0\n",
       "number_of_reviews                                   0\n",
       "number_of_reviews_ltm                               0\n",
       "number_of_reviews_l30d                              0\n",
       "first_review                                    27142\n",
       "last_review                                     27142\n",
       "review_scores_accuracy                          27154\n",
       "review_scores_cleanliness                       27151\n",
       "review_scores_checkin                           27161\n",
       "review_scores_communication                     27152\n",
       "review_scores_location                          27160\n",
       "license                                         19447\n",
       "instant_bookable                                    0\n",
       "calculated_host_listings_count                      0\n",
       "calculated_host_listings_count_entire_homes         0\n",
       "calculated_host_listings_count_private_rooms        0\n",
       "calculated_host_listings_count_shared_rooms         0\n",
       "reviews_per_month                               27142\n",
       "dtype: int64"
      ]
     },
     "execution_count": 36,
     "metadata": {},
     "output_type": "execute_result"
    }
   ],
   "source": [
    "#identificar valores nulos por columna\n",
    "valores_nulos = data2.isnull().sum()\n",
    "valores_nulos"
   ]
  },
  {
   "cell_type": "code",
   "execution_count": 37,
   "metadata": {},
   "outputs": [],
   "source": [
    "# Sustituir valores nulos con la cadena \"1\"\n",
    "data2['bedrooms'] = data2['bedrooms'].fillna(\"1\")"
   ]
  },
  {
   "cell_type": "code",
   "execution_count": 38,
   "metadata": {},
   "outputs": [
    {
     "data": {
      "text/plain": [
       "id                                                  0\n",
       "listing_url                                         0\n",
       "last_scraped                                        0\n",
       "description                                         0\n",
       "host_id                                             0\n",
       "host_url                                            0\n",
       "host_since                                          0\n",
       "host_response_time                                  0\n",
       "host_response_rate                                  0\n",
       "host_acceptance_rate                                0\n",
       "host_is_superhost                                   0\n",
       "host_listings_count                                 0\n",
       "host_total_listings_count                           0\n",
       "host_verifications                                  0\n",
       "host_identity_verified                              0\n",
       "neighbourhood                                       0\n",
       "neighbourhood_cleansed                              0\n",
       "property_type                                       0\n",
       "room_type                                           0\n",
       "accommodates                                        0\n",
       "bathrooms                                           0\n",
       "bedrooms                                            0\n",
       "beds                                            31360\n",
       "amenities                                           0\n",
       "price                                           31231\n",
       "minimum_nights                                      0\n",
       "maximum_nights                                      0\n",
       "has_availability                                 4869\n",
       "availability_30                                     0\n",
       "availability_60                                     0\n",
       "availability_90                                     0\n",
       "availability_365                                    0\n",
       "calendar_last_scraped                               0\n",
       "number_of_reviews                                   0\n",
       "number_of_reviews_ltm                               0\n",
       "number_of_reviews_l30d                              0\n",
       "first_review                                    27142\n",
       "last_review                                     27142\n",
       "review_scores_accuracy                          27154\n",
       "review_scores_cleanliness                       27151\n",
       "review_scores_checkin                           27161\n",
       "review_scores_communication                     27152\n",
       "review_scores_location                          27160\n",
       "license                                         19447\n",
       "instant_bookable                                    0\n",
       "calculated_host_listings_count                      0\n",
       "calculated_host_listings_count_entire_homes         0\n",
       "calculated_host_listings_count_private_rooms        0\n",
       "calculated_host_listings_count_shared_rooms         0\n",
       "reviews_per_month                               27142\n",
       "dtype: int64"
      ]
     },
     "execution_count": 38,
     "metadata": {},
     "output_type": "execute_result"
    }
   ],
   "source": [
    "#identificar valores nulos por columna\n",
    "valores_nulos = data2.isnull().sum()\n",
    "valores_nulos"
   ]
  },
  {
   "cell_type": "code",
   "execution_count": 39,
   "metadata": {},
   "outputs": [
    {
     "data": {
      "text/plain": [
       "id                                                  0\n",
       "listing_url                                         0\n",
       "last_scraped                                        0\n",
       "description                                         0\n",
       "host_id                                             0\n",
       "host_url                                            0\n",
       "host_since                                          0\n",
       "host_response_time                                  0\n",
       "host_response_rate                                  0\n",
       "host_acceptance_rate                                0\n",
       "host_is_superhost                                   0\n",
       "host_listings_count                                 0\n",
       "host_total_listings_count                           0\n",
       "host_verifications                                  0\n",
       "host_identity_verified                              0\n",
       "neighbourhood                                       0\n",
       "neighbourhood_cleansed                              0\n",
       "property_type                                       0\n",
       "room_type                                           0\n",
       "accommodates                                        0\n",
       "bathrooms                                           0\n",
       "bedrooms                                            0\n",
       "beds                                                0\n",
       "amenities                                           0\n",
       "price                                           31231\n",
       "minimum_nights                                      0\n",
       "maximum_nights                                      0\n",
       "has_availability                                 4869\n",
       "availability_30                                     0\n",
       "availability_60                                     0\n",
       "availability_90                                     0\n",
       "availability_365                                    0\n",
       "calendar_last_scraped                               0\n",
       "number_of_reviews                                   0\n",
       "number_of_reviews_ltm                               0\n",
       "number_of_reviews_l30d                              0\n",
       "first_review                                    27142\n",
       "last_review                                     27142\n",
       "review_scores_accuracy                          27154\n",
       "review_scores_cleanliness                       27151\n",
       "review_scores_checkin                           27161\n",
       "review_scores_communication                     27152\n",
       "review_scores_location                          27160\n",
       "license                                         19447\n",
       "instant_bookable                                    0\n",
       "calculated_host_listings_count                      0\n",
       "calculated_host_listings_count_entire_homes         0\n",
       "calculated_host_listings_count_private_rooms        0\n",
       "calculated_host_listings_count_shared_rooms         0\n",
       "reviews_per_month                               27142\n",
       "dtype: int64"
      ]
     },
     "execution_count": 39,
     "metadata": {},
     "output_type": "execute_result"
    }
   ],
   "source": [
    "# Sustituir valores nulos con la cadena \"1\"\n",
    "data2['beds'] = data2['beds'].fillna(round(data1['beds'].mean(),2))\n",
    "valores_nulos = data2.isnull().sum()\n",
    "valores_nulos"
   ]
  },
  {
   "cell_type": "code",
   "execution_count": 59,
   "metadata": {},
   "outputs": [
    {
     "data": {
      "text/plain": [
       "review_scores_communication    27152\n",
       "review_scores_location         27160\n",
       "license                        19447\n",
       "reviews_per_month              27142\n",
       "dtype: int64"
      ]
     },
     "execution_count": 59,
     "metadata": {},
     "output_type": "execute_result"
    }
   ],
   "source": [
    "# Mostrar únicamente las columnas con valores nulos\n",
    "valores_nulos = data2.isnull().sum()\n",
    "valores_nulos = valores_nulos[valores_nulos > 0]\n",
    "valores_nulos\n"
   ]
  },
  {
   "cell_type": "code",
   "execution_count": 60,
   "metadata": {},
   "outputs": [
    {
     "data": {
      "text/plain": [
       "review_scores_location    27160\n",
       "license                   19447\n",
       "reviews_per_month         27142\n",
       "dtype: int64"
      ]
     },
     "execution_count": 60,
     "metadata": {},
     "output_type": "execute_result"
    }
   ],
   "source": [
    "#Sustituir valores nulos con promedio \n",
    "data2['review_scores_communication'] = data2['review_scores_communication'].fillna(round(data2['review_scores_communication'].mean(),2))\n",
    "valores_nulos = data2.isnull().sum()\n",
    "valores_nulos = valores_nulos[valores_nulos > 0]\n",
    "valores_nulos"
   ]
  },
  {
   "cell_type": "code",
   "execution_count": 61,
   "metadata": {},
   "outputs": [
    {
     "data": {
      "text/plain": [
       "license              19447\n",
       "reviews_per_month    27142\n",
       "dtype: int64"
      ]
     },
     "execution_count": 61,
     "metadata": {},
     "output_type": "execute_result"
    }
   ],
   "source": [
    "#Sustituir valores nulos con promedio \n",
    "data2['review_scores_location'] = data2['review_scores_location'].fillna(round(data2['review_scores_location'].mean(),2))\n",
    "valores_nulos = data2.isnull().sum()\n",
    "valores_nulos = valores_nulos[valores_nulos > 0]\n",
    "valores_nulos"
   ]
  },
  {
   "cell_type": "code",
   "execution_count": 63,
   "metadata": {},
   "outputs": [
    {
     "data": {
      "text/plain": [
       "Series([], dtype: int64)"
      ]
     },
     "execution_count": 63,
     "metadata": {},
     "output_type": "execute_result"
    }
   ],
   "source": [
    "#Sustituir valores nulos con promedio \n",
    "data2['reviews_per_month'] = data2['reviews_per_month'].fillna(round(data2['reviews_per_month'].mean(),2))\n",
    "valores_nulos = data2.isnull().sum()\n",
    "valores_nulos = valores_nulos[valores_nulos > 0]\n",
    "valores_nulos"
   ]
  },
  {
   "cell_type": "code",
   "execution_count": 62,
   "metadata": {},
   "outputs": [
    {
     "data": {
      "text/plain": [
       "reviews_per_month    27142\n",
       "dtype: int64"
      ]
     },
     "execution_count": 62,
     "metadata": {},
     "output_type": "execute_result"
    }
   ],
   "source": [
    "valor_referencia = data2.loc[1, 'license']\n",
    "\n",
    "# Reemplazar valores nulos con ese valor de referencia\n",
    "data2['license'] = data2['license'].fillna(valor_referencia)\n",
    "valores_nulos = data2.isnull().sum()\n",
    "valores_nulos = valores_nulos[valores_nulos > 0]\n",
    "valores_nulos"
   ]
  },
  {
   "cell_type": "code",
   "execution_count": 57,
   "metadata": {},
   "outputs": [
    {
     "data": {
      "text/plain": [
       "review_scores_checkin          27161\n",
       "review_scores_communication    27152\n",
       "review_scores_location         27160\n",
       "license                        19447\n",
       "reviews_per_month              27142\n",
       "dtype: int64"
      ]
     },
     "execution_count": 57,
     "metadata": {},
     "output_type": "execute_result"
    }
   ],
   "source": [
    "#Sustituir valores nulos con promedio \n",
    "data2['review_scores_cleanliness'] = data2['review_scores_cleanliness'].fillna(round(data2['review_scores_cleanliness'].mean(),2))\n",
    "valores_nulos = data2.isnull().sum()\n",
    "valores_nulos = valores_nulos[valores_nulos > 0]\n",
    "valores_nulos"
   ]
  },
  {
   "cell_type": "code",
   "execution_count": 58,
   "metadata": {},
   "outputs": [
    {
     "data": {
      "text/plain": [
       "review_scores_communication    27152\n",
       "review_scores_location         27160\n",
       "license                        19447\n",
       "reviews_per_month              27142\n",
       "dtype: int64"
      ]
     },
     "execution_count": 58,
     "metadata": {},
     "output_type": "execute_result"
    }
   ],
   "source": [
    "#Sustituir valores nulos con promedio \n",
    "data2['review_scores_checkin'] = data2['review_scores_checkin'].fillna(round(data2['review_scores_checkin'].mean(),2))\n",
    "valores_nulos = data2.isnull().sum()\n",
    "valores_nulos = valores_nulos[valores_nulos > 0]\n",
    "valores_nulos"
   ]
  },
  {
   "cell_type": "code",
   "execution_count": 55,
   "metadata": {},
   "outputs": [
    {
     "data": {
      "text/plain": [
       "review_scores_cleanliness      27151\n",
       "review_scores_checkin          27161\n",
       "review_scores_communication    27152\n",
       "review_scores_location         27160\n",
       "license                        19447\n",
       "reviews_per_month              27142\n",
       "dtype: int64"
      ]
     },
     "execution_count": 55,
     "metadata": {},
     "output_type": "execute_result"
    }
   ],
   "source": [
    "#Sustituir valores nulos con promedio \n",
    "data2['review_scores_accuracy'] = data2['review_scores_accuracy'].fillna(round(data2['review_scores_accuracy'].mean(),2))\n",
    "valores_nulos = data2.isnull().sum()\n",
    "valores_nulos = valores_nulos[valores_nulos > 0]\n",
    "valores_nulos"
   ]
  },
  {
   "cell_type": "code",
   "execution_count": 52,
   "metadata": {},
   "outputs": [
    {
     "name": "stderr",
     "output_type": "stream",
     "text": [
      "C:\\Users\\joker\\AppData\\Local\\Temp\\ipykernel_10112\\3443501401.py:1: FutureWarning: Series.fillna with 'method' is deprecated and will raise in a future version. Use obj.ffill() or obj.bfill() instead.\n",
      "  data2['last_review'] = data2['last_review'].fillna(method='ffill')\n"
     ]
    },
    {
     "data": {
      "text/plain": [
       "id                                                  0\n",
       "listing_url                                         0\n",
       "last_scraped                                        0\n",
       "description                                         0\n",
       "host_id                                             0\n",
       "host_url                                            0\n",
       "host_since                                          0\n",
       "host_response_time                                  0\n",
       "host_response_rate                                  0\n",
       "host_acceptance_rate                                0\n",
       "host_is_superhost                                   0\n",
       "host_listings_count                                 0\n",
       "host_total_listings_count                           0\n",
       "host_verifications                                  0\n",
       "host_identity_verified                              0\n",
       "neighbourhood                                       0\n",
       "neighbourhood_cleansed                              0\n",
       "property_type                                       0\n",
       "room_type                                           0\n",
       "accommodates                                        0\n",
       "bathrooms                                           0\n",
       "bedrooms                                            0\n",
       "beds                                                0\n",
       "amenities                                           0\n",
       "price                                               0\n",
       "minimum_nights                                      0\n",
       "maximum_nights                                      0\n",
       "has_availability                                    0\n",
       "availability_30                                     0\n",
       "availability_60                                     0\n",
       "availability_90                                     0\n",
       "availability_365                                    0\n",
       "calendar_last_scraped                               0\n",
       "number_of_reviews                                   0\n",
       "number_of_reviews_ltm                               0\n",
       "number_of_reviews_l30d                              0\n",
       "first_review                                        0\n",
       "last_review                                         0\n",
       "review_scores_accuracy                          27154\n",
       "review_scores_cleanliness                       27151\n",
       "review_scores_checkin                           27161\n",
       "review_scores_communication                     27152\n",
       "review_scores_location                          27160\n",
       "license                                         19447\n",
       "instant_bookable                                    0\n",
       "calculated_host_listings_count                      0\n",
       "calculated_host_listings_count_entire_homes         0\n",
       "calculated_host_listings_count_private_rooms        0\n",
       "calculated_host_listings_count_shared_rooms         0\n",
       "reviews_per_month                               27142\n",
       "dtype: int64"
      ]
     },
     "execution_count": 52,
     "metadata": {},
     "output_type": "execute_result"
    }
   ],
   "source": [
    "data2['last_review'] = data2['last_review'].fillna(method='ffill')\n",
    "valores_nulos = data2.isnull().sum()\n",
    "valores_nulos"
   ]
  },
  {
   "cell_type": "code",
   "execution_count": 41,
   "metadata": {},
   "outputs": [],
   "source": [
    "# Generar precios aleatorios entre 50.00 y 500.00 con 2 decimales\n",
    "data2['price'] = np.round(np.random.uniform(100, 1000, size=len(data2)), 2)\n",
    "\n"
   ]
  },
  {
   "cell_type": "code",
   "execution_count": 45,
   "metadata": {},
   "outputs": [
    {
     "name": "stderr",
     "output_type": "stream",
     "text": [
      "C:\\Users\\joker\\AppData\\Local\\Temp\\ipykernel_10112\\3685188357.py:1: FutureWarning: Series.fillna with 'method' is deprecated and will raise in a future version. Use obj.ffill() or obj.bfill() instead.\n",
      "  data2['first_review'] = data2['first_review'].fillna(method='bfill')\n"
     ]
    },
    {
     "data": {
      "text/plain": [
       "id                                                  0\n",
       "listing_url                                         0\n",
       "last_scraped                                        0\n",
       "description                                         0\n",
       "host_id                                             0\n",
       "host_url                                            0\n",
       "host_since                                          0\n",
       "host_response_time                                  0\n",
       "host_response_rate                                  0\n",
       "host_acceptance_rate                                0\n",
       "host_is_superhost                                   0\n",
       "host_listings_count                                 0\n",
       "host_total_listings_count                           0\n",
       "host_verifications                                  0\n",
       "host_identity_verified                              0\n",
       "neighbourhood                                       0\n",
       "neighbourhood_cleansed                              0\n",
       "property_type                                       0\n",
       "room_type                                           0\n",
       "accommodates                                        0\n",
       "bathrooms                                           0\n",
       "bedrooms                                            0\n",
       "beds                                                0\n",
       "amenities                                           0\n",
       "price                                               0\n",
       "minimum_nights                                      0\n",
       "maximum_nights                                      0\n",
       "has_availability                                 4869\n",
       "availability_30                                     0\n",
       "availability_60                                     0\n",
       "availability_90                                     0\n",
       "availability_365                                    0\n",
       "calendar_last_scraped                               0\n",
       "number_of_reviews                                   0\n",
       "number_of_reviews_ltm                               0\n",
       "number_of_reviews_l30d                              0\n",
       "first_review                                        4\n",
       "last_review                                     27142\n",
       "review_scores_accuracy                          27154\n",
       "review_scores_cleanliness                       27151\n",
       "review_scores_checkin                           27161\n",
       "review_scores_communication                     27152\n",
       "review_scores_location                          27160\n",
       "license                                         19447\n",
       "instant_bookable                                    0\n",
       "calculated_host_listings_count                      0\n",
       "calculated_host_listings_count_entire_homes         0\n",
       "calculated_host_listings_count_private_rooms        0\n",
       "calculated_host_listings_count_shared_rooms         0\n",
       "reviews_per_month                               27142\n",
       "dtype: int64"
      ]
     },
     "execution_count": 45,
     "metadata": {},
     "output_type": "execute_result"
    }
   ],
   "source": [
    "data2['first_review'] = data2['first_review'].fillna(method='bfill')\n",
    "valores_nulos = data2.isnull().sum()\n",
    "valores_nulos"
   ]
  },
  {
   "cell_type": "code",
   "execution_count": 86,
   "metadata": {},
   "outputs": [
    {
     "data": {
      "text/plain": [
       "id                                                  0\n",
       "listing_url                                         0\n",
       "last_scraped                                        0\n",
       "description                                         0\n",
       "host_id                                             0\n",
       "host_url                                            0\n",
       "host_since                                          0\n",
       "host_response_time                                  0\n",
       "host_response_rate                                  0\n",
       "host_acceptance_rate                                0\n",
       "host_is_superhost                                   0\n",
       "host_listings_count                                 0\n",
       "host_total_listings_count                           0\n",
       "host_verifications                                  0\n",
       "host_identity_verified                              0\n",
       "neighbourhood                                       0\n",
       "neighbourhood_cleansed                              0\n",
       "property_type                                       0\n",
       "room_type                                           0\n",
       "accommodates                                        0\n",
       "bathrooms                                           0\n",
       "bedrooms                                            0\n",
       "beds                                                0\n",
       "amenities                                           0\n",
       "price                                               0\n",
       "minimum_nights                                      0\n",
       "maximum_nights                                      0\n",
       "has_availability                                    0\n",
       "availability_30                                     0\n",
       "availability_60                                     0\n",
       "availability_90                                     0\n",
       "availability_365                                    0\n",
       "calendar_last_scraped                               0\n",
       "number_of_reviews                                   0\n",
       "number_of_reviews_ltm                               0\n",
       "number_of_reviews_l30d                              0\n",
       "first_review                                    27142\n",
       "last_review                                     27142\n",
       "review_scores_accuracy                          27154\n",
       "review_scores_cleanliness                       27151\n",
       "review_scores_checkin                           27161\n",
       "review_scores_communication                     27152\n",
       "review_scores_location                          27160\n",
       "license                                         19447\n",
       "instant_bookable                                    0\n",
       "calculated_host_listings_count                      0\n",
       "calculated_host_listings_count_entire_homes         0\n",
       "calculated_host_listings_count_private_rooms        0\n",
       "calculated_host_listings_count_shared_rooms         0\n",
       "reviews_per_month                               27142\n",
       "dtype: int64"
      ]
     },
     "execution_count": 86,
     "metadata": {},
     "output_type": "execute_result"
    }
   ],
   "source": [
    "# Sustituir valores nulos con la cadena \"f\"\n",
    "data2['has_availability'] = data2['has_availability'].fillna(\"f\")\n",
    "valores_nulos = data2.isnull().sum()\n",
    "valores_nulos"
   ]
  },
  {
   "cell_type": "code",
   "execution_count": 64,
   "metadata": {},
   "outputs": [
    {
     "data": {
      "text/plain": [
       "np.int64(0)"
      ]
     },
     "execution_count": 64,
     "metadata": {},
     "output_type": "execute_result"
    }
   ],
   "source": [
    "#Identificar valores nulos por data frame\n",
    "valores_nulos = data2.isnull().sum().sum()\n",
    "valores_nulos"
   ]
  },
  {
   "cell_type": "code",
   "execution_count": 65,
   "metadata": {},
   "outputs": [],
   "source": [
    "data2.to_csv(\"Paris_50_Columnas.csv\")"
   ]
  }
 ],
 "metadata": {
  "kernelspec": {
   "display_name": "Python 3",
   "language": "python",
   "name": "python3"
  },
  "language_info": {
   "codemirror_mode": {
    "name": "ipython",
    "version": 3
   },
   "file_extension": ".py",
   "mimetype": "text/x-python",
   "name": "python",
   "nbconvert_exporter": "python",
   "pygments_lexer": "ipython3",
   "version": "3.12.8"
  }
 },
 "nbformat": 4,
 "nbformat_minor": 2
}
